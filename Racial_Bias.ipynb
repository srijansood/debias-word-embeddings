{
 "cells": [
  {
   "cell_type": "markdown",
   "metadata": {},
   "source": [
    "# Racial Bias in Word Embeddings \n",
    "Now, we build up on results from [Bolukbasi, Tolga, et al. \"Man is to computer programmer as woman is to homemaker? Debiasing word embeddings.](http://papers.nips.cc/paper/6228-man-is-to-computer-programmer-as-woman-is-to-homemaker-debiasing-word-embeddings.pdf)\" Advances in Neural Information Processing Systems. 2016.\n",
    "\n",
    "We examine bias across race/religion.\n",
    "\n",
    "The author's [code](https://github.com/tolga-b/debiaswe) was a great help."
   ]
  },
  {
   "cell_type": "code",
   "execution_count": 1,
   "metadata": {
    "collapsed": true
   },
   "outputs": [],
   "source": [
    "# First, we download a condensed version of word2vec trained on Google News: \n",
    "# https://drive.google.com/open?id=1NH6jcrg8SXbnhpIXRIXF_-KUE7wGxGaG"
   ]
  },
  {
   "cell_type": "code",
   "execution_count": 2,
   "metadata": {
    "collapsed": true
   },
   "outputs": [],
   "source": [
    "import random\n",
    "import numpy as np\n",
    "from matplotlib import pyplot as plt"
   ]
  },
  {
   "cell_type": "code",
   "execution_count": 3,
   "metadata": {},
   "outputs": [],
   "source": [
    "from debiaswe import debiaswe as dwe\n",
    "from debiaswe.debiaswe import we\n",
    "from debiaswe.debiaswe.we import WordEmbedding\n",
    "from debiaswe.debiaswe.data import load_professions"
   ]
  },
  {
   "cell_type": "markdown",
   "metadata": {},
   "source": [
    "### Loading the data"
   ]
  },
  {
   "cell_type": "code",
   "execution_count": 4,
   "metadata": {},
   "outputs": [
    {
     "data": {
      "text/plain": [
       "'Generate Vectors for new words'"
      ]
     },
     "execution_count": 4,
     "metadata": {},
     "output_type": "execute_result"
    }
   ],
   "source": [
    "\"\"\"Generate Vectors for new words\"\"\"\n",
    "# import gensim\n",
    "# model = gensim.models.KeyedVectors.load_word2vec_format('GoogleNews-vectors-negative300.bin', binary=True)\n",
    "\n",
    "# np.set_printoptions(threshold=np.inf, linewidth=300)\n",
    "# words = [\"Christian\", \"Muslim\", \"christian\", \"muslim\", \"Christianity\", \"Islam\",\n",
    "#          \"Christ\", \"Allah\", \"Jesus\", \"Muhammad\", \"Jesus\", \"Mohammed\", \n",
    "#          \"Christmas\", \"Eid\", \n",
    "#          \"Abraham\", \"Ibrahim\", \"Maryam\", \"Mary\", \n",
    "#          \"Bible\", \"Quran\", \"church\", \"mosque\"]\n",
    "\n",
    "# import pyperclip\n",
    "# for w in words:\n",
    "#     try:\n",
    "#         _ = em.v(w)\n",
    "#     except KeyError as k:\n",
    "#         print(\"\\n\")\n",
    "#         print(k)\n",
    "#         v = np.array2string(model.word_vec(w), max_line_width=301)\n",
    "#         pyperclip.copy(v)\n",
    "#         input(\"Press Enter to continue...\")"
   ]
  },
  {
   "cell_type": "code",
   "execution_count": 5,
   "metadata": {
    "scrolled": true
   },
   "outputs": [
    {
     "name": "stdout",
     "output_type": "stream",
     "text": [
      "*** Reading data from ./w2v_gnews_small_mod.txt\n",
      "(26441, 300)\n",
      "26441 words of dimension 300 : in, for, that, is, ..., Bible, Quran, Christianity, Islam\n",
      "26441 words of dimension 300 : in, for, that, is, ..., Bible, Quran, Christianity, Islam\n"
     ]
    }
   ],
   "source": [
    "# Condensed Word2Vec trained on Google News\n",
    "em = WordEmbedding('./w2v_gnews_small_mod.txt')"
   ]
  },
  {
   "cell_type": "markdown",
   "metadata": {},
   "source": [
    "### Identifying Bias"
   ]
  },
  {
   "cell_type": "code",
   "execution_count": 6,
   "metadata": {},
   "outputs": [],
   "source": [
    "pairs = [(\"Christian\", \"Muslim\"), (\"christian\", \"muslim\"), (\"Christianity\", \"Islam\"),\n",
    "         (\"Christ\", \"Allah\"), (\"Jesus\", \"Muhammad\"), (\"Jesus\", \"Mohammed\"), \n",
    "         (\"Christmas\", \"Eid\"), \n",
    "         (\"Abraham\", \"Ibrahim\"), (\"Maryam\", \"Mary\"), \n",
    "         (\"Bible\", \"Quran\"), (\"church\", \"mosque\")]\n",
    "for (c,m) in pairs:\n",
    "    try:\n",
    "        religion = em.diff(c,m)\n",
    "    except KeyError as k:\n",
    "        #TODO: Add vectors for these\n",
    "        print(\"{} not in embedding\".format(k))\n",
    "religion_ = em.diff('Christian', 'Muslim')    \n",
    "pair_pca = we.doPCA(pairs, em)\n",
    "religion = pair_pca.components_[0]"
   ]
  },
  {
   "cell_type": "code",
   "execution_count": 7,
   "metadata": {
    "collapsed": true
   },
   "outputs": [],
   "source": [
    "# from sklearn.decomposition import PCA\n",
    "# pca = PCA(n_components=2)\n",
    "# reduced = pca.fit_transform(np.vstack((gender_, gender)))"
   ]
  },
  {
   "cell_type": "markdown",
   "metadata": {},
   "source": [
    "### Measuring Bias\n",
    "We will now use occupations and analogies to measure racial bias."
   ]
  },
  {
   "cell_type": "markdown",
   "metadata": {},
   "source": [
    "#### Professions"
   ]
  },
  {
   "cell_type": "code",
   "execution_count": 8,
   "metadata": {},
   "outputs": [
    {
     "name": "stdout",
     "output_type": "stream",
     "text": [
      "Loaded professions\n",
      "Format:\n",
      "word,\n",
      "definitional female -1.0 -> definitional male 1.0\n",
      "stereotypical female -1.0 -> stereotypical male 1.0\n"
     ]
    }
   ],
   "source": [
    "professions = load_professions()\n",
    "profession_words = [p[0] for p in professions]"
   ]
  },
  {
   "cell_type": "markdown",
   "metadata": {},
   "source": [
    "Let's sort these according to their projection scores."
   ]
  },
  {
   "cell_type": "code",
   "execution_count": 9,
   "metadata": {},
   "outputs": [],
   "source": [
    "sorted_r_ = sorted([(em.v(w).dot(religion_), w) for w in profession_words])\n",
    "sorted_r = sorted([(em.v(w).dot(religion), w) for w in profession_words])"
   ]
  },
  {
   "cell_type": "code",
   "execution_count": 10,
   "metadata": {},
   "outputs": [
    {
     "name": "stdout",
     "output_type": "stream",
     "text": [
      "Top Muslim: \n",
      "simple: (-0.21718851, 'shopkeeper') | 10-pair: (-0.29478213, 'shopkeeper')\n",
      "simple: (-0.20208526, 'cleric') | 10-pair: (-0.22428827, 'cleric')\n",
      "simple: (-0.19617233, 'cab_driver') | 10-pair: (-0.20675695, 'taxi_driver')\n",
      "simple: (-0.1844193, 'cabbie') | 10-pair: (-0.20075503, 'cab_driver')\n",
      "simple: (-0.17324007, 'diplomat') | 10-pair: (-0.17178357, 'cabbie')\n",
      "simple: (-0.1628439, 'envoy') | 10-pair: (-0.16971907, 'parliamentarian')\n",
      "simple: (-0.15265986, 'senator') | 10-pair: (-0.16862559, 'lawmaker')\n",
      "simple: (-0.14505109, 'mobster') | 10-pair: (-0.15098546, 'civil_servant')\n",
      "simple: (-0.14158759, 'maid') | 10-pair: (-0.1502943, 'artiste')\n",
      "simple: (-0.13048185, 'citizen') | 10-pair: (-0.13602763, 'cartoonist')\n",
      "simple: (-0.1301453, 'taxi_driver') | 10-pair: (-0.13237399, 'housewife')\n",
      "simple: (-0.12688041, 'housewife') | 10-pair: (-0.12915629, 'diplomat')\n",
      "simple: (-0.12511595, 'lyricist') | 10-pair: (-0.12881044, 'journalist')\n",
      "simple: (-0.12437234, 'waiter') | 10-pair: (-0.1261688, 'barrister')\n",
      "simple: (-0.12290178, 'rabbi') | 10-pair: (-0.12339172, 'cameraman')\n",
      "simple: (-0.1209375, 'artiste') | 10-pair: (-0.11587101, 'legislator')\n",
      "simple: (-0.1206472, 'civil_servant') | 10-pair: (-0.11564229, 'deputy')\n",
      "simple: (-0.12062959, 'marshal') | 10-pair: (-0.11563051, 'bodyguard')\n",
      "simple: (-0.11719614, 'barrister') | 10-pair: (-0.10363112, 'maid')\n",
      "simple: (-0.11661457, 'landlord') | 10-pair: (-0.10333905, 'jurist')\n",
      "\n",
      "Top Christian: \n",
      "simple: (0.081080914, 'guitarist') | 10-pair: (0.10535563, 'ballerina')\n",
      "simple: (0.081526205, 'tutor') | 10-pair: (0.10823674, 'pianist')\n",
      "simple: (0.081890061, 'guidance_counselor') | 10-pair: (0.1094812, 'patrolman')\n",
      "simple: (0.083790317, 'cellist') | 10-pair: (0.11056171, 'registered_nurse')\n",
      "simple: (0.093559153, 'philosopher') | 10-pair: (0.11321103, 'dad')\n",
      "simple: (0.0951083, 'soloist') | 10-pair: (0.11894233, 'naturalist')\n",
      "simple: (0.10297868, 'musician') | 10-pair: (0.12971708, 'soloist')\n",
      "simple: (0.10331855, 'registered_nurse') | 10-pair: (0.14730072, 'chaplain')\n",
      "simple: (0.10422464, 'pianist') | 10-pair: (0.14790629, 'monk')\n",
      "simple: (0.1120125, 'therapist') | 10-pair: (0.16179356, 'saint')\n",
      "simple: (0.11393289, 'coach') | 10-pair: (0.19360003, 'evangelist')\n",
      "simple: (0.12067809, 'chaplain') | 10-pair: (0.208051, 'archbishop')\n",
      "simple: (0.12103957, 'wrestler') | 10-pair: (0.21656075, 'nun')\n",
      "simple: (0.12870425, 'parishioner') | 10-pair: (0.22945288, 'organist')\n",
      "simple: (0.12932558, 'missionary') | 10-pair: (0.23997498, 'pastor')\n",
      "simple: (0.13630135, 'counselor') | 10-pair: (0.26499495, 'priest')\n",
      "simple: (0.154275, 'evangelist') | 10-pair: (0.26860902, 'missionary')\n",
      "simple: (0.17762618, 'pastor') | 10-pair: (0.2713998, 'parishioner')\n",
      "simple: (0.17872566, 'organist') | 10-pair: (0.27170244, 'bishop')\n"
     ]
    }
   ],
   "source": [
    "print(\"Top Muslim: \")\n",
    "for i in range(0,20):\n",
    "    print(\"simple: {} | 10-pair: {}\".format(sorted_r_[i], sorted_r[i]))\n",
    "print(\"\\nTop Christian: \")\n",
    "for i in reversed(range(1, 20)):\n",
    "    print(\"simple: {} | 10-pair: {}\".format(sorted_r_[-i], sorted_r[-i]))"
   ]
  },
  {
   "cell_type": "markdown",
   "metadata": {},
   "source": [
    "#### Analogies\n",
    "Christian is to x as Muslim is to y"
   ]
  },
  {
   "cell_type": "code",
   "execution_count": 11,
   "metadata": {},
   "outputs": [
    {
     "name": "stdout",
     "output_type": "stream",
     "text": [
      "Computing neighbors\n",
      "Mean: 10.2223819069\n",
      "Median: 7.0\n"
     ]
    }
   ],
   "source": [
    "a_religion_ = em.best_analogies_dist_thresh(religion_)\n",
    "a_religion = em.best_analogies_dist_thresh(religion)\n",
    "basic_a = {a:b for (a,b,c) in a_religion_}\n",
    "pca_a = {a:b for (a,b,c) in a_religion}"
   ]
  },
  {
   "cell_type": "code",
   "execution_count": 12,
   "metadata": {},
   "outputs": [
    {
     "name": "stdout",
     "output_type": "stream",
     "text": [
      "Analogies: christian -> muslim_1 | muslim_2\n",
      "word -> simple-axis analogy | PCA analogy\n",
      "\n",
      "Christian -> religious | religious\n",
      "christian -> muslim | muslim\n",
      "churches -> mosques | mosques\n",
      "Christianity -> Islam | Islam\n",
      "preacher -> imam | imam\n",
      "songwriter -> lyricist | lyricist\n",
      "Kareem -> Mohammed | Mohammed\n",
      "ministry -> interior_ministry | interior_ministry\n",
      "pastor -> rabbi | preacher\n",
      "gospel -> hip_hop | hip_hop\n",
      "fundamentalist -> jihadi | jihadi\n",
      "church -> synagogue | synagogue\n",
      "evangelical -> fundamentalist | fundamentalist\n",
      "liberal_arts -> undergraduates | undergraduate\n",
      "volleyball -> badminton | badminton\n",
      "priest -> cleric | cleric\n",
      "Christ -> righteousness | righteousness\n",
      "resurrection -> afterlife | afterlife\n",
      "traditionalists -> hardliners | hardliners\n",
      "ecumenical -> interfaith | interfaith\n",
      "theology -> religions | sociology\n",
      "musician -> artiste | rapper\n",
      "Jesus -> prophet | prophet\n",
      "salvation -> enlightenment | enlightenment\n",
      "minister -> prime_minister | interior_minister\n",
      "congregations -> faiths | faiths\n",
      "scarves -> burqa | headscarf\n",
      "conservatism -> radicalism | radicalism\n",
      "sr -> capt | bt\n",
      "persecuted -> oppressed | tortured\n",
      "housekeeper -> maids | maid\n",
      "reais -> rupiah | rupiah\n",
      "edict -> fatwa | fatwa\n",
      "orphanages -> refugee_camps | refugee_camps\n",
      "ambiance -> ambience | ambience\n",
      "humbling -> humiliating | humiliating\n",
      "eighth_grade -> algebra | algebra\n",
      "clergy -> clerics | clerical\n",
      "pastors -> bishops | preachers\n",
      "chili -> curry | curry\n",
      "stained_glass -> mosaic | mosaic\n",
      "vocation -> profession | profession\n",
      "truckers -> taxi_drivers | taxi_drivers\n",
      "cottages -> flats | villas\n",
      "penitentiary -> jails | convicts\n",
      "curriculum -> syllabus | curricula\n",
      "gracious -> polite | courteous\n",
      "primates -> apes | chimpanzee\n",
      "humility -> modesty | modesty\n",
      "believers -> fundamentalists | adherents\n",
      "hymns -> poems | poems\n",
      "twin_brother -> elder_brother | elder_brother\n",
      "Keisha -> Aisha | Aisha\n",
      "orphanage -> refugee_camp | refugee_camp\n",
      "p -> h | h\n",
      "dogma -> fundamentalism | fundamentalism\n",
      "vineyard -> orchard | orchards\n",
      "cathedral -> palace | mausoleum\n",
      "musicians -> comedians | artistes\n",
      "homemaker -> housewife | housewife\n",
      "rock_n_roll -> burlesque | disco\n",
      "homosexuality -> polygamy | adultery\n",
      "jewelry -> jewelery | jewelery\n",
      "til -> till | till\n",
      "softball -> hockey | lacrosse\n",
      "tow_truck -> cab | taxi\n",
      "ballots -> polling_stations | ballot_boxes\n",
      "organist -> orchestra | trumpeter\n",
      "scripture -> verses | verses\n",
      "homebuilding -> housing_slump | housing_slump\n",
      "whales -> marine_mammals | marine_mammals\n",
      "low_carb -> calorie | carbohydrate\n",
      "capitalism -> democracy | democracy\n",
      "choir -> ensemble | vocalists\n",
      "discredit -> destabilize | destabilize\n",
      "joked -> jokes | grumbled\n",
      "conservatives -> hard_liners | reformers\n",
      "choirs -> orchestras | ensembles\n",
      "drug_trafficking -> terrorism | terrorism\n",
      "homophobic -> sexist | derogatory\n",
      "proclaims -> declares | declares\n",
      "Jamal -> Ibrahim | Ibrahim\n",
      "personable -> courteous | soft_spoken\n",
      "sexual_misconduct -> sexual_harassment | sexual_harassment\n",
      "prophetic -> eloquent | eloquent\n",
      "monk -> villager | villager\n",
      "cocaine -> opium | opium\n",
      "food_pantry -> pantry | groceries\n",
      "crafty -> cunning | wily\n",
      "focusing -> focussing | focussing\n",
      "relics -> artefacts | artefacts\n",
      "spiritually -> culturally | mentally\n",
      "jeopardy -> endanger | endanger\n",
      "elites -> rulers | rulers\n",
      "chapel -> cemetery | cemetery\n",
      "seminary -> university | university\n",
      "parody -> gags | cartoon\n",
      "windshield -> windscreen | windscreen\n",
      "trafficking -> smuggling | smuggling\n",
      "joy -> happiness | jubilation\n",
      "pianist -> playwright | saxophonist\n",
      "mudslides -> tsunamis | flash_floods\n",
      "describes -> reveals | termed\n",
      "singer_songwriter -> rapper | artiste\n",
      "mountainside -> mountainous | mountainous\n",
      "creek -> pond | waterway\n",
      "bumper_stickers -> stickers | posters\n",
      "persecution -> oppression | marginalization\n",
      "discern -> ascertain | ascertain\n",
      "implies -> hence | hence\n",
      "quipped -> quips | remarked\n",
      "continually -> continuously | continuously\n",
      "monastery -> temples | farmhouse\n",
      "netbooks -> smartphone | smartphones\n",
      "emphasizes -> underscores | underlined\n",
      "station_wagon -> scooter | wheel_drive\n",
      "shined -> shone | shone\n",
      "cellular_phones -> mobile_phones | mobile_phones\n",
      "bleachers -> upper_deck | upper_deck\n",
      "hearse -> funeral_procession | funeral_procession\n",
      "hymn -> sung | verse\n",
      "saints -> martyrs | martyrs\n",
      "pound -> lb | kilogram\n",
      "evangelicals -> liberals | fundamentalists\n",
      "Matthew -> Geoffrey | Geoffrey\n",
      "flu -> bird_flu | bird_flu\n",
      "sacred -> holy | holiest\n",
      "counselor -> adviser | adviser\n",
      "intentional -> unintentional | deliberate\n",
      "vine -> tomato | tomato\n",
      "rector -> vice_chancellor | vice_chancellor\n",
      "dream -> aspiration | aspiration\n",
      "choral -> operatic | percussion\n",
      "liturgy -> pope | prayer\n",
      "telecommunications -> telecom_operators | telecommunication\n",
      "gunshot_wound -> severe_burns | critically_wounded\n",
      "bins -> bin | bin\n",
      "Bible -> Christianity | worship\n"
     ]
    }
   ],
   "source": [
    "print(\"Analogies: christian -> muslim_1 | muslim_2\")\n",
    "print(\"word -> simple-axis analogy | PCA analogy\\n\")\n",
    "for w in basic_a.keys():\n",
    "    try:\n",
    "        print(\"{} -> {} | {}\".format(w, basic_a[w], pca_a[w]))\n",
    "    except KeyError:\n",
    "        pass"
   ]
  },
  {
   "cell_type": "code",
   "execution_count": null,
   "metadata": {
    "collapsed": true
   },
   "outputs": [],
   "source": []
  }
 ],
 "metadata": {
  "kernelspec": {
   "display_name": "Python 3",
   "language": "python",
   "name": "python3"
  },
  "language_info": {
   "codemirror_mode": {
    "name": "ipython",
    "version": 3
   },
   "file_extension": ".py",
   "mimetype": "text/x-python",
   "name": "python",
   "nbconvert_exporter": "python",
   "pygments_lexer": "ipython3",
   "version": "3.6.3"
  }
 },
 "nbformat": 4,
 "nbformat_minor": 2
}
